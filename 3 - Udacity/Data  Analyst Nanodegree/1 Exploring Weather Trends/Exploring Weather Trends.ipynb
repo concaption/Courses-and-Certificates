{
 "cells": [
  {
   "cell_type": "markdown",
   "metadata": {},
   "source": [
    "# Exploring Weather Trends\n",
    "\n",
    "### Summary\n",
    "In this project, you will analyze local and global temperature data and compare the temperature trends where you live to overall global temperature trends.\n",
    "\n",
    "### Instructions\n",
    "Your goal will be to create a visualization and prepare a write up describing the similarities and differences between global temperature trends and temperature trends in the closest big city to where you live. To do this, you’ll follow the steps below:\n",
    "\n",
    "* **Extract the data** from the database. There's a workspace in the next section that is connected to a database. You’ll need to export the temperature data for the world as well as for the closest big city to where you live. You can find a list of cities and countries in the `city_list` table. To interact with the database, you'll need to write a SQL query.\n",
    "    - Write a SQL query to extract the city level data. Export to CSV.\n",
    "    - Write a SQL query to extract the global data. Export to CSV.\n",
    "    \n",
    "* **Open up the CSV** in whatever tool you feel most comfortable using. We suggest using Excel or Google sheets, but you are welcome to use another tool, such as Python or R.\n",
    "\n",
    "* **Create a line chart** that compares your city’s temperatures with the global temperatures. Make sure to plot the moving average rather than the yearly averages in order to smooth out the lines, making trends more observable (the last concept in the previous lesson goes over how to do this in a spreadsheet).\n",
    "\n",
    "* **Make observations** about the similarities and differences between the world averages and your city’s averages, as well as overall trends. Here are some questions to get you started.\n",
    "\n",
    "    - Is your city hotter or cooler on average compared to the global average? Has the difference been consistent over time?\n",
    "    - “How do the changes in your city’s temperatures over time compare to the changes in the global average?”\n",
    "    - What does the overall trend look like? Is the world getting hotter or cooler? Has the trend been consistent over the last few hundred years?\n",
    "\n",
    "### Submission\n",
    "Your submission should be a PDF that includes:\n",
    "\n",
    "* **An outline** of steps taken to prepare the data to be visualized in the chart, such as:\n",
    "    - What tools did you use for each step? (Python, SQL, Excel, etc)\n",
    "    - How did you calculate the moving average?\n",
    "    - What were your key considerations when deciding how to visualize the trends?\n",
    "\n",
    "* **Line chart** with local and global temperature trends\n",
    "\n",
    "* At least **four observations** about the similarities and/or differences in the trends\n",
    "\n",
    "### Rubric\n",
    "A Udacity reviewer will assess your project based on the criteria in the project rubric. Use the rubric as a guide while you complete the project, then give yourself a quick self-assessment before you submit it.\n",
    "\n",
    "|CRITERIA|MEETS SPECIFICATIONS|\n",
    "|---|:--- |\n",
    "|Student is able to extract data from a database using SQL.| <ul><li>The SQL query used to extract the data is included.</li><li>The query runs without error and pulls the intended data.</li></ul>\n",
    "| Student is able to manipulate data in a spreadsheet or similar tool. | <ul><li>Moving averages are calculated to be used in the line chart.</li></ul>|\n",
    "| Student is able to create a clear data visualization.| <ul><li>A line chart is included in the submission.</li><li>The chart and its axes have titles, and there's a clear legend (if applicable).</li></ul>\n",
    "| Student is able to interpret a data visualization.|<ul><li>The student includes four observations about their provided data visualization.</li><li>The four observations are accurate.</li></ul>\n",
    "\n",
    "### Suggestions to Make Your Project Stand Out!\n",
    "\n",
    "Think about other ways to compare and find insights from this data beyond interpreting the chart. Hear are a few ideas:\n",
    "\n",
    "* What's the correlation coefficient?\n",
    "* Can you estimate the average temperature in your city based on the average global temperature?\n",
    "* Multiple cities - Add your favorite cities from around the globe to your visualization. What do you learn about them?"
   ]
  },
  {
   "cell_type": "markdown",
   "metadata": {},
   "source": [
    "## Loading the Data"
   ]
  },
  {
   "cell_type": "code",
   "execution_count": 1,
   "metadata": {},
   "outputs": [],
   "source": [
    "import numpy as np\n",
    "import matplotlib.pyplot as plt\n",
    "import pandas as pd\n",
    "%matplotlib inline"
   ]
  },
  {
   "cell_type": "code",
   "execution_count": 2,
   "metadata": {},
   "outputs": [
    {
     "name": "stdout",
     "output_type": "stream",
     "text": [
      "266\n",
      "271\n",
      "198\n"
     ]
    }
   ],
   "source": [
    "dfg=pd.read_csv(\"global_results.csv\")\n",
    "dfn=pd.read_csv(\"newyork_results.csv\")\n",
    "dfm=pd.read_csv(\"multan_results.csv\")\n",
    "\n",
    "print(len(dfg))\n",
    "print(len(dfn))\n",
    "print(len(dfm))"
   ]
  },
  {
   "cell_type": "markdown",
   "metadata": {},
   "source": [
    "## Preprocessing"
   ]
  },
  {
   "cell_type": "code",
   "execution_count": 3,
   "metadata": {},
   "outputs": [],
   "source": [
    "dfg[\"mpa\"]=dfg[\"avg_temp\"].rolling(window=7).mean()\n",
    "dfn[\"mpa\"]=dfn[\"avg_temp\"].rolling(window=7).mean()\n",
    "dfm[\"mpa\"]=dfm[\"avg_temp\"].rolling(window=7).mean()"
   ]
  },
  {
   "cell_type": "markdown",
   "metadata": {},
   "source": [
    "## Visualization"
   ]
  },
  {
   "cell_type": "code",
   "execution_count": 4,
   "metadata": {},
   "outputs": [
    {
     "data": {
      "image/png": "[encoded data removed]",
      "text/plain": [
       "<Figure size 432x288 with 1 Axes>"
      ]
     },
     "metadata": {
      "needs_background": "light"
     },
     "output_type": "display_data"
    }
   ],
   "source": [
    "x2 = dfm[\"year\"]\n",
    "y2 = dfm[\"mpa\"]\n",
    "plt.plot(x2, y2, label = \"Multan\")\n",
    "x3 = dfn[\"year\"]\n",
    "y3 = dfn[\"mpa\"]\n",
    "plt.plot(x3, y3, label = \"New York\")\n",
    "plt.xlabel('Year')\n",
    "x1 = dfg[\"year\"]\n",
    "y1 = dfg[\"mpa\"]\n",
    "plt.plot(x1, y1, label = \"Global\")\n",
    "plt.ylabel('Average Temperature')\n",
    "plt.title('Temperature trend in Multan Pk vsNew York Newyork Vs entire globe')\n",
    "plt.legend()\n",
    "plt.show()"
   ]
  },
  {
   "cell_type": "markdown",
   "metadata": {},
   "source": [
    "## Observations"
   ]
  },
  {
   "cell_type": "markdown",
   "metadata": {},
   "source": [
    "1. Multan is one of the hotest city in the world becasue it is present on the equator.\n",
    "2. Multan is much much hotter than Newyork and Globe.\n",
    "3. Moving Point Averge temperature of the Multan is smoother then Newyork.\n",
    "4. With the increase in global warming, temperature of Mutan is also increasing."
   ]
  }
 ],
 "metadata": {
  "kernelspec": {
   "display_name": "'Python Interactive'",
   "language": "python",
   "name": "682dffc2-053a-4e11-b675-de4032cba605"
  },
  "language_info": {
   "codemirror_mode": {
    "name": "ipython",
    "version": 3
   },
   "file_extension": ".py",
   "mimetype": "text/x-python",
   "name": "python",
   "nbconvert_exporter": "python",
   "pygments_lexer": "ipython3",
   "version": "3.7.4"
  }
 },
 "nbformat": 4,
 "nbformat_minor": 2
}
